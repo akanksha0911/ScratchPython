{
  "nbformat": 4,
  "nbformat_minor": 0,
  "metadata": {
    "colab": {
      "name": "255-Catchup_assign.ipynb",
      "provenance": [],
      "mount_file_id": "1Q9xT-ot0671QvMSrjaFT9nENkRidsuFY",
      "authorship_tag": "ABX9TyOi4ppwYEs6V97wAjtbutds",
      "include_colab_link": true
    },
    "kernelspec": {
      "display_name": "Python 3",
      "name": "python3"
    },
    "language_info": {
      "name": "python"
    }
  },
  "cells": [
    {
      "cell_type": "markdown",
      "metadata": {
        "id": "view-in-github",
        "colab_type": "text"
      },
      "source": [
        "<a href=\"https://colab.research.google.com/github/akanksha0911/ScratchPython/blob/main/255_Catchup_assign.ipynb\" target=\"_parent\"><img src=\"https://colab.research.google.com/assets/colab-badge.svg\" alt=\"Open In Colab\"/></a>"
      ]
    },
    {
      "cell_type": "markdown",
      "metadata": {
        "id": "P0ZUj4O3L9RG"
      },
      "source": [
        " apriori algorithm"
      ]
    },
    {
      "cell_type": "markdown",
      "metadata": {
        "id": "eSl9BnduX6sz"
      },
      "source": [
        "Apriori assumes that\n",
        "\n",
        "All subsets of a frequent itemset must be frequent(Apriori propertry).\n",
        "If an itemset is infrequent, all its supersets will be infrequent."
      ]
    },
    {
      "cell_type": "code",
      "metadata": {
        "id": "RR7GhVd4VYvl"
      },
      "source": [
        "from __future__ import division, print_function\n",
        "import numpy as np\n",
        "import itertools\n",
        "\n",
        "\n",
        "class Rule():\n",
        "    def __init__(self, antecedent, concequent, confidence, support):\n",
        "        self.antecedent = antecedent\n",
        "        self.concequent = concequent\n",
        "        self.confidence = confidence\n",
        "        self.support = support\n",
        "\n",
        "\n",
        "class Apriori():\n",
        "\n",
        "    def __init__(self, min_sup=0.3, min_conf=0.81):\n",
        "\n",
        "        self.min_sup = min_sup\n",
        "        self.min_conf = min_conf\n",
        "        self.freq_itemsets = None       # List of freqeuent itemsets\n",
        "        self.transactions = None        # List of transactions\n",
        "\n",
        "    def _calculate_support(self, itemset):\n",
        "        count = 0\n",
        "        for transaction in self.transactions:\n",
        "            if self._transaction_contains_items(transaction, itemset):\n",
        "                count += 1\n",
        "        support = count / len(self.transactions)\n",
        "        return support\n",
        "\n",
        "\n",
        "    def _get_frequent_itemsets(self, candidates):\n",
        "        \"\"\" Prunes the candidates that are not frequent => returns list with \n",
        "        only frequent itemsets \"\"\"\n",
        "        frequent = []\n",
        "        # Find frequent items\n",
        "        for itemset in candidates:\n",
        "            support = self._calculate_support(itemset)\n",
        "            if support >= self.min_sup:\n",
        "                frequent.append(itemset)\n",
        "        return frequent\n",
        "\n",
        "\n",
        "    def _has_infrequent_itemsets(self, candidate):\n",
        "        \"\"\" True or false depending on the candidate has any\n",
        "        subset with size k - 1 that is not in the frequent itemset \"\"\"\n",
        "        k = len(candidate)\n",
        "        # Find all combinations of size k-1 in candidate\n",
        "        # E.g [1,2,3] => [[1,2],[1,3],[2,3]]\n",
        "        subsets = list(itertools.combinations(candidate, k - 1))\n",
        "        for t in subsets:\n",
        "            # t - is tuple. If size == 1 get the element\n",
        "            subset = list(t) if len(t) > 1 else t[0]\n",
        "            if not subset in self.freq_itemsets[-1]:\n",
        "                return True\n",
        "        return False\n",
        "\n",
        "\n",
        "    def _generate_candidates(self, freq_itemset):\n",
        "        \"\"\" Joins the elements in the frequent itemset and prunes\n",
        "        resulting sets if they contain subsets that have been determined\n",
        "        to be infrequent. \"\"\"\n",
        "        candidates = []\n",
        "        for itemset1 in freq_itemset:\n",
        "            for itemset2 in freq_itemset:\n",
        "                # Valid if every element but the last are the same\n",
        "                # and the last element in itemset1 is smaller than the last\n",
        "                # in itemset2\n",
        "                valid = False\n",
        "                single_item = isinstance(itemset1, int)\n",
        "                if single_item and itemset1 < itemset2:\n",
        "                    valid = True\n",
        "                elif not single_item and np.array_equal(itemset1[:-1], itemset2[:-1]) and itemset1[-1] < itemset2[-1]:\n",
        "                    valid = True\n",
        "\n",
        "                if valid:\n",
        "                    # JOIN: Add the last element in itemset2 to itemset1 to\n",
        "                    # create a new candidate\n",
        "                    if single_item:\n",
        "                        candidate = [itemset1, itemset2]\n",
        "                    else:\n",
        "                        candidate = itemset1 + [itemset2[-1]]\n",
        "                    # PRUNE: Check if any subset of candidate have been determined\n",
        "                    # to be infrequent\n",
        "                    infrequent = self._has_infrequent_itemsets(candidate)\n",
        "                    if not infrequent:\n",
        "                        candidates.append(candidate)\n",
        "        return candidates\n",
        "\n",
        "\n",
        "    def _transaction_contains_items(self, transaction, items):\n",
        "        \"\"\" True or false depending on each item in the itemset is\n",
        "        in the transaction \"\"\"\n",
        "        # If items is in fact only one item\n",
        "        if isinstance(items, int):\n",
        "            return items in transaction\n",
        "        # Iterate through list of items and make sure that\n",
        "        # all items are in the transaction\n",
        "        for item in items:\n",
        "            if not item in transaction:\n",
        "                return False\n",
        "        return True\n",
        "\n",
        "    def find_frequent_itemsets(self, transactions):\n",
        "        \"\"\" Returns the set of frequent itemsets in the list of transactions \"\"\"\n",
        "        self.transactions = transactions\n",
        "        # Get all unique items in the transactions\n",
        "        unique_items = set(item for transaction in self.transactions for item in transaction)\n",
        "        # Get the frequent items\n",
        "        self.freq_itemsets = [self._get_frequent_itemsets(unique_items)]\n",
        "        while(True):\n",
        "            # Generate new candidates from last added frequent itemsets\n",
        "            candidates = self._generate_candidates(self.freq_itemsets[-1])\n",
        "            # Get the frequent itemsets among those candidates\n",
        "            frequent_itemsets = self._get_frequent_itemsets(candidates)\n",
        "\n",
        "            # If there are no frequent itemsets we're done\n",
        "            if not frequent_itemsets:\n",
        "                break\n",
        "\n",
        "            # Add them to the total list of frequent itemsets and start over\n",
        "            self.freq_itemsets.append(frequent_itemsets)\n",
        "\n",
        "        # Flatten the array and return every frequent itemset\n",
        "        frequent_itemsets = [\n",
        "            itemset for sublist in self.freq_itemsets for itemset in sublist]\n",
        "        return frequent_itemsets\n",
        "\n",
        "\n",
        "    def _rules_from_itemset(self, initial_itemset, itemset):\n",
        "        \"\"\" Recursive function which returns the rules where confidence >= min_confidence\n",
        "        Starts with large itemset and recursively explores rules for subsets \"\"\"\n",
        "        rules = []\n",
        "        k = len(itemset)\n",
        "        # Get all combinations of sub-itemsets of size k - 1 from itemset\n",
        "        # E.g [1,2,3] => [[1,2],[1,3],[2,3]]\n",
        "        subsets = list(itertools.combinations(itemset, k - 1))\n",
        "        support = self._calculate_support(initial_itemset)\n",
        "        for antecedent in subsets:\n",
        "            # itertools.combinations returns tuples => convert to list\n",
        "            antecedent = list(antecedent)\n",
        "            antecedent_support = self._calculate_support(antecedent)\n",
        "            # Calculate the confidence as sup(A and B) / sup(B), if antecedent\n",
        "            # is B in an itemset of A and B\n",
        "            confidence = float(\"{0:.2f}\".format(support / antecedent_support))\n",
        "            if confidence >= self.min_conf:\n",
        "                # The concequent is the initial_itemset except for antecedent\n",
        "                concequent = [itemset for itemset in initial_itemset if not itemset in antecedent]\n",
        "                # If single item => get item\n",
        "                if len(antecedent) == 1:\n",
        "                    antecedent = antecedent[0]\n",
        "                if len(concequent) == 1:\n",
        "                    concequent = concequent[0]\n",
        "                # Create new rule\n",
        "                rule = Rule(\n",
        "                        antecedent=antecedent,\n",
        "                        concequent=concequent,\n",
        "                        confidence=confidence,\n",
        "                        support=support)\n",
        "                rules.append(rule)\n",
        "                    \n",
        "                # If there are subsets that could result in rules\n",
        "                # recursively add rules from subsets\n",
        "                if k - 1 > 1:\n",
        "                    rules += self._rules_from_itemset(initial_itemset, antecedent)\n",
        "        return rules\n",
        "\n",
        "    def generate_rules(self, transactions):\n",
        "        self.transactions = transactions\n",
        "        frequent_itemsets = self.find_frequent_itemsets(transactions)\n",
        "        # Only consider itemsets of size >= 2 items\n",
        "        frequent_itemsets = [itemset for itemset in frequent_itemsets if not isinstance(\n",
        "                itemset, int)]\n",
        "        rules = []\n",
        "        for itemset in frequent_itemsets:\n",
        "            rules += self._rules_from_itemset(itemset, itemset)\n",
        "        # Remove empty values\n",
        "        return rules"
      ],
      "execution_count": 397,
      "outputs": []
    },
    {
      "cell_type": "markdown",
      "metadata": {
        "id": "3o1mullMVxkG"
      },
      "source": [
        "Implement above class"
      ]
    },
    {
      "cell_type": "code",
      "metadata": {
        "colab": {
          "base_uri": "https://localhost:8080/"
        },
        "id": "KpAxcijsVwaL",
        "outputId": "887371cf-d2a5-49f4-fc5b-1cb0fc5570ee"
      },
      "source": [
        "transactions = np.array([[1, 2, 3, 4], [1, 2, 4], [1, 2], [2, 3, 4], [2, 3], [3, 4], [2, 4]])"
      ],
      "execution_count": 398,
      "outputs": [
        {
          "output_type": "stream",
          "name": "stderr",
          "text": [
            "/usr/local/lib/python3.7/dist-packages/ipykernel_launcher.py:1: VisibleDeprecationWarning: Creating an ndarray from ragged nested sequences (which is a list-or-tuple of lists-or-tuples-or ndarrays with different lengths or shapes) is deprecated. If you meant to do this, you must specify 'dtype=object' when creating the ndarray\n",
            "  \"\"\"Entry point for launching an IPython kernel.\n"
          ]
        }
      ]
    },
    {
      "cell_type": "code",
      "metadata": {
        "colab": {
          "base_uri": "https://localhost:8080/"
        },
        "id": "WUECjTcJVzm0",
        "outputId": "22f02ee3-8754-4670-ce2d-6cd3438d5cd3"
      },
      "source": [
        " min_sup = 0.25\n",
        " min_conf = 0.8\n",
        " print (\"Minimum Support: %.2f\" % (min_sup))\n",
        " print (\"Minimum Confidence: %s\" % (min_conf))\n",
        " print (\"Transactions:\")\n",
        " for transaction in transactions:\n",
        "        print (\"\\t%s\" % transaction)\n",
        "\n",
        " apriori = Apriori(min_sup=min_sup, min_conf=min_conf)"
      ],
      "execution_count": 399,
      "outputs": [
        {
          "output_type": "stream",
          "name": "stdout",
          "text": [
            "Minimum Support: 0.25\n",
            "Minimum Confidence: 0.8\n",
            "Transactions:\n",
            "\t[1, 2, 3, 4]\n",
            "\t[1, 2, 4]\n",
            "\t[1, 2]\n",
            "\t[2, 3, 4]\n",
            "\t[2, 3]\n",
            "\t[3, 4]\n",
            "\t[2, 4]\n"
          ]
        }
      ]
    },
    {
      "cell_type": "code",
      "metadata": {
        "id": "idD4eW32WAbS"
      },
      "source": [
        "\n",
        "rules = apriori.generate_rules(transactions)"
      ],
      "execution_count": 400,
      "outputs": []
    },
    {
      "cell_type": "code",
      "metadata": {
        "colab": {
          "base_uri": "https://localhost:8080/"
        },
        "id": "0eK7evjYV5nd",
        "outputId": "f05db220-0930-46e7-f425-c25473f2f63f"
      },
      "source": [
        "print (\"Rules:\")\n",
        "for rule in rules:\n",
        "        print (\"\\t%s -> %s (support: %.2f, confidence: %s)\" % (rule.antecedent, rule.concequent, rule.support, rule.confidence,))"
      ],
      "execution_count": 401,
      "outputs": [
        {
          "output_type": "stream",
          "name": "stdout",
          "text": [
            "Rules:\n",
            "\t1 -> 2 (support: 0.43, confidence: 1.0)\n",
            "\t4 -> 2 (support: 0.57, confidence: 0.8)\n",
            "\t[1, 4] -> 2 (support: 0.29, confidence: 1.0)\n"
          ]
        }
      ]
    },
    {
      "cell_type": "markdown",
      "metadata": {
        "id": "ay_GO4U5K0vh"
      },
      "source": [
        "1. K-means "
      ]
    },
    {
      "cell_type": "markdown",
      "metadata": {
        "id": "uT067ZujwytS"
      },
      "source": [
        "The kMeans algorithm finds those k points (called centroids) that minimize the sum of squared errors. This process is done iteratively until the total error is not reduced anymore. At that time we will have reached a minimum and our observations will be classified into different groups or clusters.\n"
      ]
    },
    {
      "cell_type": "markdown",
      "metadata": {
        "id": "k9CaOQ7ww7bQ"
      },
      "source": [
        "Choose value for K\n",
        "Randomly select K featuresets to start as your centroids\n",
        "Calculate distance of all other featuresets to centroids\n",
        "Classify other featuresets as same as closest centroid\n",
        "Take mean of each class (mean of all featuresets by class), making that mean the new centroid"
      ]
    },
    {
      "cell_type": "code",
      "metadata": {
        "id": "mm7V3bjM1nTM"
      },
      "source": [
        "import numpy as np\n",
        "from scipy.spatial.distance import cdist \n",
        " \n",
        "#Function to implement steps given in previous section\n",
        "def kmeans(x,k, no_of_iterations):\n",
        "    idx = np.random.choice(len(x), k, replace=False)\n",
        "    #Randomly choosing Centroids \n",
        "    centroids = x[idx, :] #Step 1\n",
        "     \n",
        "    #finding the distance between centroids and all the data points\n",
        "    distances = cdist(x, centroids ,'euclidean') #Step 2\n",
        "     \n",
        "    #Centroid with the minimum Distance\n",
        "    points = np.array([np.argmin(i) for i in distances]) #Step 3\n",
        "     \n",
        "    #Repeating the above steps for a defined number of iterations\n",
        "    #Step 4\n",
        "    for _ in range(no_of_iterations): \n",
        "        centroids = []\n",
        "        for idx in range(k):\n",
        "            #Updating Centroids by taking mean of Cluster it belongs to\n",
        "            temp_cent = x[points==idx].mean(axis=0) \n",
        "            centroids.append(temp_cent)\n",
        " \n",
        "        centroids = np.vstack(centroids) #Updated Centroids \n",
        "         \n",
        "        distances = cdist(x, centroids ,'euclidean')\n",
        "        points = np.array([np.argmin(i) for i in distances])\n",
        "         \n",
        "    return points "
      ],
      "execution_count": 402,
      "outputs": []
    },
    {
      "cell_type": "code",
      "metadata": {
        "id": "q_oAxVGt1wfP",
        "colab": {
          "base_uri": "https://localhost:8080/",
          "height": 282
        },
        "outputId": "b20f039b-f492-41e3-95d9-9d2356ef2bed"
      },
      "source": [
        "from sklearn.datasets import load_digits\n",
        "from sklearn.decomposition import PCA\n",
        "import matplotlib.pyplot as plt\n",
        " \n",
        "#Defining our function \n",
        "def kmeans(x,k, no_of_iterations):\n",
        "    idx = np.random.choice(len(x), k, replace=False)\n",
        "    #Randomly choosing Centroids \n",
        "    centroids = x[idx, :] #Step 1\n",
        "     \n",
        "    #finding the distance between centroids and all the data points\n",
        "    distances = cdist(x, centroids ,'euclidean') #Step 2\n",
        "     \n",
        "    #Centroid with the minimum Distance\n",
        "    points = np.array([np.argmin(i) for i in distances]) #Step 3\n",
        "     \n",
        "    #Repeating the above steps for a defined number of iterations\n",
        "    #Step 4\n",
        "    for _ in range(no_of_iterations): \n",
        "        centroids = []\n",
        "        for idx in range(k):\n",
        "            #Updating Centroids by taking mean of Cluster it belongs to\n",
        "            temp_cent = x[points==idx].mean(axis=0) \n",
        "            centroids.append(temp_cent)\n",
        " \n",
        "        centroids = np.vstack(centroids) #Updated Centroids \n",
        "         \n",
        "        distances = cdist(x, centroids ,'euclidean')\n",
        "        points = np.array([np.argmin(i) for i in distances])\n",
        "         \n",
        "    return points \n",
        " \n",
        " \n",
        "#Load Data\n",
        "data = load_digits().data\n",
        "pca = PCA(2)\n",
        "  \n",
        "#Transform the data\n",
        "df = pca.fit_transform(data)\n",
        " \n",
        "#Applying our function\n",
        "label = kmeans(df,10,1000)\n",
        " \n",
        "#Visualize the results\n",
        " \n",
        "u_labels = np.unique(label)\n",
        "for i in u_labels:\n",
        "    plt.scatter(df[label == i , 0] , df[label == i , 1] , label = i)\n",
        "\n",
        "plt.legend()\n",
        "plt.show()"
      ],
      "execution_count": 403,
      "outputs": [
        {
          "output_type": "display_data",
          "data": {
            "image/png": "[encoded data removed]",
            "text/plain": [
              "<Figure size 432x288 with 1 Axes>"
            ]
          },
          "metadata": {}
        }
      ]
    },
    {
      "cell_type": "code",
      "metadata": {
        "id": "XcCSWWxq15qj",
        "colab": {
          "base_uri": "https://localhost:8080/"
        },
        "outputId": "89625328-240f-49ce-c7d2-4f99d2b420e4"
      },
      "source": [
        "centroids"
      ],
      "execution_count": 404,
      "outputs": [
        {
          "output_type": "execute_result",
          "data": {
            "text/plain": [
              "array([[ -8.47453799, -10.14333222,   4.58002297,  -9.73944925,\n",
              "         -0.06383295],\n",
              "       [ -5.99688531,  -5.02463211,  -6.28061932,  -7.09702487,\n",
              "          5.44919288]])"
            ]
          },
          "metadata": {},
          "execution_count": 404
        }
      ]
    },
    {
      "cell_type": "markdown",
      "metadata": {
        "id": "gCPnCNX7s9Tm"
      },
      "source": [
        "2- Decision Tree and Random Forest"
      ]
    },
    {
      "cell_type": "code",
      "metadata": {
        "id": "an24sNhPmTjq"
      },
      "source": [
        "import pandas as pd\n",
        "import numpy as np\n",
        "import matplotlib.pyplot as plt\n",
        "import seaborn as sns\n",
        "\n",
        "%matplotlib inline\n",
        "sns.set_style(\"whitegrid\")\n",
        "plt.style.use(\"fivethirtyeight\")\n",
        "\n"
      ],
      "execution_count": 405,
      "outputs": []
    },
    {
      "cell_type": "code",
      "metadata": {
        "id": "fjsA-GjtnbAB",
        "colab": {
          "base_uri": "https://localhost:8080/",
          "height": 313
        },
        "outputId": "7045a168-5edc-4f98-fd13-3acf26f5a402"
      },
      "source": [
        "\n",
        "\n",
        "df = pd.read_csv(\"/content/drive/MyDrive/Kaggle_data/WA_Fn-UseC_-HR-Employee-Attrition.csv\")\n",
        "df.head()\n",
        "\n"
      ],
      "execution_count": 406,
      "outputs": [
        {
          "output_type": "execute_result",
          "data": {
            "text/html": [
              "<div>\n",
              "<style scoped>\n",
              "    .dataframe tbody tr th:only-of-type {\n",
              "        vertical-align: middle;\n",
              "    }\n",
              "\n",
              "    .dataframe tbody tr th {\n",
              "        vertical-align: top;\n",
              "    }\n",
              "\n",
              "    .dataframe thead th {\n",
              "        text-align: right;\n",
              "    }\n",
              "</style>\n",
              "<table border=\"1\" class=\"dataframe\">\n",
              "  <thead>\n",
              "    <tr style=\"text-align: right;\">\n",
              "      <th></th>\n",
              "      <th>Age</th>\n",
              "      <th>Attrition</th>\n",
              "      <th>BusinessTravel</th>\n",
              "      <th>DailyRate</th>\n",
              "      <th>Department</th>\n",
              "      <th>DistanceFromHome</th>\n",
              "      <th>Education</th>\n",
              "      <th>EducationField</th>\n",
              "      <th>EmployeeCount</th>\n",
              "      <th>EmployeeNumber</th>\n",
              "      <th>EnvironmentSatisfaction</th>\n",
              "      <th>Gender</th>\n",
              "      <th>HourlyRate</th>\n",
              "      <th>JobInvolvement</th>\n",
              "      <th>JobLevel</th>\n",
              "      <th>JobRole</th>\n",
              "      <th>JobSatisfaction</th>\n",
              "      <th>MaritalStatus</th>\n",
              "      <th>MonthlyIncome</th>\n",
              "      <th>MonthlyRate</th>\n",
              "      <th>NumCompaniesWorked</th>\n",
              "      <th>Over18</th>\n",
              "      <th>OverTime</th>\n",
              "      <th>PercentSalaryHike</th>\n",
              "      <th>PerformanceRating</th>\n",
              "      <th>RelationshipSatisfaction</th>\n",
              "      <th>StandardHours</th>\n",
              "      <th>StockOptionLevel</th>\n",
              "      <th>TotalWorkingYears</th>\n",
              "      <th>TrainingTimesLastYear</th>\n",
              "      <th>WorkLifeBalance</th>\n",
              "      <th>YearsAtCompany</th>\n",
              "      <th>YearsInCurrentRole</th>\n",
              "      <th>YearsSinceLastPromotion</th>\n",
              "      <th>YearsWithCurrManager</th>\n",
              "    </tr>\n",
              "  </thead>\n",
              "  <tbody>\n",
              "    <tr>\n",
              "      <th>0</th>\n",
              "      <td>41</td>\n",
              "      <td>Yes</td>\n",
              "      <td>Travel_Rarely</td>\n",
              "      <td>1102</td>\n",
              "      <td>Sales</td>\n",
              "      <td>1</td>\n",
              "      <td>2</td>\n",
              "      <td>Life Sciences</td>\n",
              "      <td>1</td>\n",
              "      <td>1</td>\n",
              "      <td>2</td>\n",
              "      <td>Female</td>\n",
              "      <td>94</td>\n",
              "      <td>3</td>\n",
              "      <td>2</td>\n",
              "      <td>Sales Executive</td>\n",
              "      <td>4</td>\n",
              "      <td>Single</td>\n",
              "      <td>5993</td>\n",
              "      <td>19479</td>\n",
              "      <td>8</td>\n",
              "      <td>Y</td>\n",
              "      <td>Yes</td>\n",
              "      <td>11</td>\n",
              "      <td>3</td>\n",
              "      <td>1</td>\n",
              "      <td>80</td>\n",
              "      <td>0</td>\n",
              "      <td>8</td>\n",
              "      <td>0</td>\n",
              "      <td>1</td>\n",
              "      <td>6</td>\n",
              "      <td>4</td>\n",
              "      <td>0</td>\n",
              "      <td>5</td>\n",
              "    </tr>\n",
              "    <tr>\n",
              "      <th>1</th>\n",
              "      <td>49</td>\n",
              "      <td>No</td>\n",
              "      <td>Travel_Frequently</td>\n",
              "      <td>279</td>\n",
              "      <td>Research &amp; Development</td>\n",
              "      <td>8</td>\n",
              "      <td>1</td>\n",
              "      <td>Life Sciences</td>\n",
              "      <td>1</td>\n",
              "      <td>2</td>\n",
              "      <td>3</td>\n",
              "      <td>Male</td>\n",
              "      <td>61</td>\n",
              "      <td>2</td>\n",
              "      <td>2</td>\n",
              "      <td>Research Scientist</td>\n",
              "      <td>2</td>\n",
              "      <td>Married</td>\n",
              "      <td>5130</td>\n",
              "      <td>24907</td>\n",
              "      <td>1</td>\n",
              "      <td>Y</td>\n",
              "      <td>No</td>\n",
              "      <td>23</td>\n",
              "      <td>4</td>\n",
              "      <td>4</td>\n",
              "      <td>80</td>\n",
              "      <td>1</td>\n",
              "      <td>10</td>\n",
              "      <td>3</td>\n",
              "      <td>3</td>\n",
              "      <td>10</td>\n",
              "      <td>7</td>\n",
              "      <td>1</td>\n",
              "      <td>7</td>\n",
              "    </tr>\n",
              "    <tr>\n",
              "      <th>2</th>\n",
              "      <td>37</td>\n",
              "      <td>Yes</td>\n",
              "      <td>Travel_Rarely</td>\n",
              "      <td>1373</td>\n",
              "      <td>Research &amp; Development</td>\n",
              "      <td>2</td>\n",
              "      <td>2</td>\n",
              "      <td>Other</td>\n",
              "      <td>1</td>\n",
              "      <td>4</td>\n",
              "      <td>4</td>\n",
              "      <td>Male</td>\n",
              "      <td>92</td>\n",
              "      <td>2</td>\n",
              "      <td>1</td>\n",
              "      <td>Laboratory Technician</td>\n",
              "      <td>3</td>\n",
              "      <td>Single</td>\n",
              "      <td>2090</td>\n",
              "      <td>2396</td>\n",
              "      <td>6</td>\n",
              "      <td>Y</td>\n",
              "      <td>Yes</td>\n",
              "      <td>15</td>\n",
              "      <td>3</td>\n",
              "      <td>2</td>\n",
              "      <td>80</td>\n",
              "      <td>0</td>\n",
              "      <td>7</td>\n",
              "      <td>3</td>\n",
              "      <td>3</td>\n",
              "      <td>0</td>\n",
              "      <td>0</td>\n",
              "      <td>0</td>\n",
              "      <td>0</td>\n",
              "    </tr>\n",
              "    <tr>\n",
              "      <th>3</th>\n",
              "      <td>33</td>\n",
              "      <td>No</td>\n",
              "      <td>Travel_Frequently</td>\n",
              "      <td>1392</td>\n",
              "      <td>Research &amp; Development</td>\n",
              "      <td>3</td>\n",
              "      <td>4</td>\n",
              "      <td>Life Sciences</td>\n",
              "      <td>1</td>\n",
              "      <td>5</td>\n",
              "      <td>4</td>\n",
              "      <td>Female</td>\n",
              "      <td>56</td>\n",
              "      <td>3</td>\n",
              "      <td>1</td>\n",
              "      <td>Research Scientist</td>\n",
              "      <td>3</td>\n",
              "      <td>Married</td>\n",
              "      <td>2909</td>\n",
              "      <td>23159</td>\n",
              "      <td>1</td>\n",
              "      <td>Y</td>\n",
              "      <td>Yes</td>\n",
              "      <td>11</td>\n",
              "      <td>3</td>\n",
              "      <td>3</td>\n",
              "      <td>80</td>\n",
              "      <td>0</td>\n",
              "      <td>8</td>\n",
              "      <td>3</td>\n",
              "      <td>3</td>\n",
              "      <td>8</td>\n",
              "      <td>7</td>\n",
              "      <td>3</td>\n",
              "      <td>0</td>\n",
              "    </tr>\n",
              "    <tr>\n",
              "      <th>4</th>\n",
              "      <td>27</td>\n",
              "      <td>No</td>\n",
              "      <td>Travel_Rarely</td>\n",
              "      <td>591</td>\n",
              "      <td>Research &amp; Development</td>\n",
              "      <td>2</td>\n",
              "      <td>1</td>\n",
              "      <td>Medical</td>\n",
              "      <td>1</td>\n",
              "      <td>7</td>\n",
              "      <td>1</td>\n",
              "      <td>Male</td>\n",
              "      <td>40</td>\n",
              "      <td>3</td>\n",
              "      <td>1</td>\n",
              "      <td>Laboratory Technician</td>\n",
              "      <td>2</td>\n",
              "      <td>Married</td>\n",
              "      <td>3468</td>\n",
              "      <td>16632</td>\n",
              "      <td>9</td>\n",
              "      <td>Y</td>\n",
              "      <td>No</td>\n",
              "      <td>12</td>\n",
              "      <td>3</td>\n",
              "      <td>4</td>\n",
              "      <td>80</td>\n",
              "      <td>1</td>\n",
              "      <td>6</td>\n",
              "      <td>3</td>\n",
              "      <td>3</td>\n",
              "      <td>2</td>\n",
              "      <td>2</td>\n",
              "      <td>2</td>\n",
              "      <td>2</td>\n",
              "    </tr>\n",
              "  </tbody>\n",
              "</table>\n",
              "</div>"
            ],
            "text/plain": [
              "   Age Attrition  ... YearsSinceLastPromotion  YearsWithCurrManager\n",
              "0   41       Yes  ...                       0                     5\n",
              "1   49        No  ...                       1                     7\n",
              "2   37       Yes  ...                       0                     0\n",
              "3   33        No  ...                       3                     0\n",
              "4   27        No  ...                       2                     2\n",
              "\n",
              "[5 rows x 35 columns]"
            ]
          },
          "metadata": {},
          "execution_count": 406
        }
      ]
    },
    {
      "cell_type": "code",
      "metadata": {
        "id": "rQ1kpbagnp5W",
        "colab": {
          "base_uri": "https://localhost:8080/",
          "height": 321
        },
        "outputId": "e9bb1838-44ba-4069-a574-fddbaaacf0d1"
      },
      "source": [
        "\n",
        "\n",
        "sns.countplot(x='Attrition', data=df)\n",
        "\n"
      ],
      "execution_count": 407,
      "outputs": [
        {
          "output_type": "execute_result",
          "data": {
            "text/plain": [
              "<matplotlib.axes._subplots.AxesSubplot at 0x7f5eac39cdd0>"
            ]
          },
          "metadata": {},
          "execution_count": 407
        },
        {
          "output_type": "display_data",
          "data": {
            "image/png": "[encoded data removed]",
            "text/plain": [
              "<Figure size 432x288 with 1 Axes>"
            ]
          },
          "metadata": {}
        }
      ]
    },
    {
      "cell_type": "code",
      "metadata": {
        "id": "ESVoVDhDntrO"
      },
      "source": [
        "df.drop(['EmployeeCount', 'EmployeeNumber', 'Over18', 'StandardHours'], axis=\"columns\", inplace=True)\n",
        "\n",
        "categorical_col = []\n",
        "for column in df.columns:\n",
        "    if df[column].dtype == object and len(df[column].unique()) <= 50:\n",
        "        categorical_col.append(column)\n",
        "        \n",
        "df['Attrition'] = df.Attrition.astype(\"category\").cat.codes"
      ],
      "execution_count": 408,
      "outputs": []
    },
    {
      "cell_type": "code",
      "metadata": {
        "id": "-xEE7sv8nxWE"
      },
      "source": [
        "\n",
        "\n",
        "categorical_col.remove('Attrition')\n",
        "\n"
      ],
      "execution_count": 409,
      "outputs": []
    },
    {
      "cell_type": "code",
      "metadata": {
        "id": "xJB1jV8Vn1Ct"
      },
      "source": [
        "from sklearn.preprocessing import LabelEncoder\n",
        "\n",
        "label = LabelEncoder()\n",
        "for column in categorical_col:\n",
        "    df[column] = label.fit_transform(df[column])\n"
      ],
      "execution_count": 410,
      "outputs": []
    },
    {
      "cell_type": "code",
      "metadata": {
        "id": "gdBagnq8n3pd"
      },
      "source": [
        "from sklearn.model_selection import train_test_split\n",
        "\n",
        "X = df.drop('Attrition', axis=1)\n",
        "y = df.Attrition\n",
        "\n",
        "X_train, X_test, y_train, y_test = train_test_split(X, y, test_size=0.3, random_state=42)\n"
      ],
      "execution_count": 411,
      "outputs": []
    },
    {
      "cell_type": "code",
      "metadata": {
        "id": "fS26bcY-n7_J"
      },
      "source": [
        "from sklearn.metrics import accuracy_score, confusion_matrix, classification_report\n",
        "\n",
        "def print_score(clf, X_train, y_train, X_test, y_test, train=True):\n",
        "    if train:\n",
        "        pred = clf.predict(X_train)\n",
        "        clf_report = pd.DataFrame(classification_report(y_train, pred, output_dict=True))\n",
        "        print(\"Train Result:\\n================================================\")\n",
        "        print(f\"Accuracy Score: {accuracy_score(y_train, pred) * 100:.2f}%\")\n",
        "        print(\"_______________________________________________\")\n",
        "        print(f\"CLASSIFICATION REPORT:\\n{clf_report}\")\n",
        "        print(\"_______________________________________________\")\n",
        "        print(f\"Confusion Matrix: \\n {confusion_matrix(y_train, pred)}\\n\")\n",
        "        \n",
        "    elif train==False:\n",
        "        pred = clf.predict(X_test)\n",
        "        clf_report = pd.DataFrame(classification_report(y_test, pred, output_dict=True))\n",
        "        print(\"Test Result:\\n================================================\")        \n",
        "        print(f\"Accuracy Score: {accuracy_score(y_test, pred) * 100:.2f}%\")\n",
        "        print(\"_______________________________________________\")\n",
        "        print(f\"CLASSIFICATION REPORT:\\n{clf_report}\")\n",
        "        print(\"_______________________________________________\")\n",
        "        print(f\"Confusion Matrix: \\n {confusion_matrix(y_test, pred)}\\n\")\n"
      ],
      "execution_count": 425,
      "outputs": []
    },
    {
      "cell_type": "code",
      "metadata": {
        "id": "xEkthpVdn_o0",
        "colab": {
          "base_uri": "https://localhost:8080/"
        },
        "outputId": "a7cec584-4df2-4434-bb40-e55b6475d22a"
      },
      "source": [
        "from sklearn.tree import DecisionTreeClassifier\n",
        "\n",
        "tree_clf = DecisionTreeClassifier(criterion=\"entropy\", max_depth = 4)\n",
        "tree_clf.fit(X_train, y_train)\n",
        "\n",
        "print_score(tree_clf, X_train, y_train, X_test, y_test, train=True)\n",
        "print_score(tree_clf, X_train, y_train, X_test, y_test, train=False)\n"
      ],
      "execution_count": 413,
      "outputs": [
        {
          "output_type": "stream",
          "name": "stdout",
          "text": [
            "Train Result:\n",
            "================================================\n",
            "Accuracy Score: 87.07%\n",
            "_______________________________________________\n",
            "CLASSIFICATION REPORT:\n",
            "                    0           1  accuracy    macro avg  weighted avg\n",
            "precision    0.868098    0.921569  0.870748     0.894833      0.877244\n",
            "recall       0.995311    0.267045  0.870748     0.631178      0.870748\n",
            "f1-score     0.927362    0.414097  0.870748     0.670730      0.839573\n",
            "support    853.000000  176.000000  0.870748  1029.000000   1029.000000\n",
            "_______________________________________________\n",
            "Confusion Matrix: \n",
            " [[849   4]\n",
            " [129  47]]\n",
            "\n",
            "Test Result:\n",
            "================================================\n",
            "Accuracy Score: 85.94%\n",
            "_______________________________________________\n",
            "CLASSIFICATION REPORT:\n",
            "                    0          1  accuracy   macro avg  weighted avg\n",
            "precision    0.866359   0.428571   0.85941    0.647465      0.805804\n",
            "recall       0.989474   0.049180   0.85941    0.519327      0.859410\n",
            "f1-score     0.923833   0.088235   0.85941    0.506034      0.808251\n",
            "support    380.000000  61.000000   0.85941  441.000000    441.000000\n",
            "_______________________________________________\n",
            "Confusion Matrix: \n",
            " [[376   4]\n",
            " [ 58   3]]\n",
            "\n"
          ]
        }
      ]
    },
    {
      "cell_type": "code",
      "metadata": {
        "id": "7um9cBctpN30",
        "colab": {
          "base_uri": "https://localhost:8080/",
          "height": 363
        },
        "outputId": "703e9598-fb86-4fe0-c124-a437d3d43dc7"
      },
      "source": [
        "importances = pd.DataFrame({\"feature\": X_train.columns, \"importance\": tree_clf.feature_importances_})\n",
        "importances.sort_values(\"importance\", ascending=False)[:10]\n",
        "\n"
      ],
      "execution_count": 414,
      "outputs": [
        {
          "output_type": "execute_result",
          "data": {
            "text/html": [
              "<div>\n",
              "<style scoped>\n",
              "    .dataframe tbody tr th:only-of-type {\n",
              "        vertical-align: middle;\n",
              "    }\n",
              "\n",
              "    .dataframe tbody tr th {\n",
              "        vertical-align: top;\n",
              "    }\n",
              "\n",
              "    .dataframe thead th {\n",
              "        text-align: right;\n",
              "    }\n",
              "</style>\n",
              "<table border=\"1\" class=\"dataframe\">\n",
              "  <thead>\n",
              "    <tr style=\"text-align: right;\">\n",
              "      <th></th>\n",
              "      <th>feature</th>\n",
              "      <th>importance</th>\n",
              "    </tr>\n",
              "  </thead>\n",
              "  <tbody>\n",
              "    <tr>\n",
              "      <th>18</th>\n",
              "      <td>OverTime</td>\n",
              "      <td>0.264745</td>\n",
              "    </tr>\n",
              "    <tr>\n",
              "      <th>15</th>\n",
              "      <td>MonthlyIncome</td>\n",
              "      <td>0.186576</td>\n",
              "    </tr>\n",
              "    <tr>\n",
              "      <th>23</th>\n",
              "      <td>TotalWorkingYears</td>\n",
              "      <td>0.120833</td>\n",
              "    </tr>\n",
              "    <tr>\n",
              "      <th>14</th>\n",
              "      <td>MaritalStatus</td>\n",
              "      <td>0.086246</td>\n",
              "    </tr>\n",
              "    <tr>\n",
              "      <th>26</th>\n",
              "      <td>YearsAtCompany</td>\n",
              "      <td>0.068939</td>\n",
              "    </tr>\n",
              "    <tr>\n",
              "      <th>22</th>\n",
              "      <td>StockOptionLevel</td>\n",
              "      <td>0.049396</td>\n",
              "    </tr>\n",
              "    <tr>\n",
              "      <th>4</th>\n",
              "      <td>DistanceFromHome</td>\n",
              "      <td>0.049342</td>\n",
              "    </tr>\n",
              "    <tr>\n",
              "      <th>16</th>\n",
              "      <td>MonthlyRate</td>\n",
              "      <td>0.040025</td>\n",
              "    </tr>\n",
              "    <tr>\n",
              "      <th>13</th>\n",
              "      <td>JobSatisfaction</td>\n",
              "      <td>0.037491</td>\n",
              "    </tr>\n",
              "    <tr>\n",
              "      <th>28</th>\n",
              "      <td>YearsSinceLastPromotion</td>\n",
              "      <td>0.035706</td>\n",
              "    </tr>\n",
              "  </tbody>\n",
              "</table>\n",
              "</div>"
            ],
            "text/plain": [
              "                    feature  importance\n",
              "18                 OverTime    0.264745\n",
              "15            MonthlyIncome    0.186576\n",
              "23        TotalWorkingYears    0.120833\n",
              "14            MaritalStatus    0.086246\n",
              "26           YearsAtCompany    0.068939\n",
              "22         StockOptionLevel    0.049396\n",
              "4          DistanceFromHome    0.049342\n",
              "16              MonthlyRate    0.040025\n",
              "13          JobSatisfaction    0.037491\n",
              "28  YearsSinceLastPromotion    0.035706"
            ]
          },
          "metadata": {},
          "execution_count": 414
        }
      ]
    },
    {
      "cell_type": "code",
      "metadata": {
        "id": "UhSwVfkFoJiG",
        "colab": {
          "base_uri": "https://localhost:8080/"
        },
        "outputId": "cb3ca548-db28-436d-c748-80047b26ed78"
      },
      "source": [
        "from sklearn.ensemble import RandomForestClassifier\n",
        "\n",
        "rf_clf = RandomForestClassifier(n_estimators=100)\n",
        "rf_clf.fit(X_train, y_train)\n",
        "\n",
        "print_score(rf_clf, X_train, y_train, X_test, y_test, train=True)\n",
        "print_score(rf_clf, X_train, y_train, X_test, y_test, train=False)\n"
      ],
      "execution_count": 415,
      "outputs": [
        {
          "output_type": "stream",
          "name": "stdout",
          "text": [
            "Train Result:\n",
            "================================================\n",
            "Accuracy Score: 100.00%\n",
            "_______________________________________________\n",
            "CLASSIFICATION REPORT:\n",
            "               0      1  accuracy  macro avg  weighted avg\n",
            "precision    1.0    1.0       1.0        1.0           1.0\n",
            "recall       1.0    1.0       1.0        1.0           1.0\n",
            "f1-score     1.0    1.0       1.0        1.0           1.0\n",
            "support    853.0  176.0       1.0     1029.0        1029.0\n",
            "_______________________________________________\n",
            "Confusion Matrix: \n",
            " [[853   0]\n",
            " [  0 176]]\n",
            "\n",
            "Test Result:\n",
            "================================================\n",
            "Accuracy Score: 86.39%\n",
            "_______________________________________________\n",
            "CLASSIFICATION REPORT:\n",
            "                    0          1  accuracy   macro avg  weighted avg\n",
            "precision    0.873832   0.538462  0.863946    0.706147      0.827443\n",
            "recall       0.984211   0.114754  0.863946    0.549482      0.863946\n",
            "f1-score     0.925743   0.189189  0.863946    0.557466      0.823861\n",
            "support    380.000000  61.000000  0.863946  441.000000    441.000000\n",
            "_______________________________________________\n",
            "Confusion Matrix: \n",
            " [[374   6]\n",
            " [ 54   7]]\n",
            "\n"
          ]
        }
      ]
    },
    {
      "cell_type": "markdown",
      "metadata": {
        "id": "Ok30vYiotW0D"
      },
      "source": [
        "3- adaboost"
      ]
    },
    {
      "cell_type": "code",
      "metadata": {
        "id": "Q8bT-J4_5LPC"
      },
      "source": [
        "import numpy as np\n",
        "\n",
        "from sklearn.tree import DecisionTreeClassifier\n",
        "\n",
        "\n",
        "def I(flag):\n",
        "    return 1 if flag else 0\n",
        "\n",
        "def sign(x):\n",
        "    return abs(x)/x if x!=0 else 1       \n",
        "\n",
        "class AdaBoost:\n",
        "    \n",
        "    def __init__(self,n_estimators=50):\n",
        "        self.n_estimators = n_estimators\n",
        "        self.models = [None]*n_estimators\n",
        "        \n",
        "    def fit(self,X,y):\n",
        "        \n",
        "        X = np.float64(X)\n",
        "        N = len(y)\n",
        "        w = np.array([1/N for i in range(N)])\n",
        "        \n",
        "        for m in range(self.n_estimators):\n",
        "            \n",
        "            Gm = DecisionTreeClassifier(max_depth=1)\\\n",
        "                        .fit(X,y,sample_weight=w).predict\n",
        "                        \n",
        "            errM = sum([w[i]*I(y[i]!=Gm(X[i].reshape(1,-1))) \\\n",
        "                        for i in range(N)])/sum(w)\n",
        "            \n",
        "            AlphaM = np.log((1-errM)/errM)\n",
        "            \n",
        "            w = [w[i]*np.exp(AlphaM*I(y[i]!=Gm(X[i].reshape(1,-1))))\\\n",
        "                     for i in range(N)] \n",
        "            \n",
        "            \n",
        "            self.models[m] = (AlphaM,Gm)\n",
        "\n",
        "    def predict(self,X):\n",
        "        \n",
        "        y = 0\n",
        "        for m in range(self.n_estimators):\n",
        "            AlphaM,Gm = self.models[m]\n",
        "            y += AlphaM*Gm(X)\n",
        "        signA = np.vectorize(sign)\n",
        "        y = np.where(signA(y)==-1,-1,1)\n",
        "        return y"
      ],
      "execution_count": 416,
      "outputs": []
    },
    {
      "cell_type": "code",
      "metadata": {
        "id": "4FE2xvBU5NJq",
        "colab": {
          "base_uri": "https://localhost:8080/"
        },
        "outputId": "74336af9-ddee-49f7-8694-0ff6d3785459"
      },
      "source": [
        "from sklearn.datasets import make_classification\n",
        "from sklearn.metrics import confusion_matrix as CM\n",
        "\n",
        "x,y = make_classification(n_samples=217)\n",
        "'''\n",
        "As for our implementaion of AdaBoost \n",
        "y needs to be in {-1,1}\n",
        "'''\n",
        "y = np.where(y==0,-1,1)\n",
        "\n",
        "clf = AdaBoost(n_estimators=5)\n",
        "clf.fit(x,y)\n",
        "y_pred = clf.predict(x)\n",
        "\n",
        "\n",
        "print(\"Performance:\",100*sum(y_pred==y)/len(y))\n",
        "print(\"\"\"Confusion Matrix:\"\"\", CM(y,y_pred))"
      ],
      "execution_count": 417,
      "outputs": [
        {
          "output_type": "stream",
          "name": "stdout",
          "text": [
            "Performance: 92.16589861751152\n",
            "Confusion Matrix: [[ 99  10]\n",
            " [  7 101]]\n"
          ]
        }
      ]
    },
    {
      "cell_type": "markdown",
      "metadata": {
        "id": "ZVowqVoD5xpd"
      },
      "source": [
        "we may compare with the sklearn implementation"
      ]
    },
    {
      "cell_type": "code",
      "metadata": {
        "id": "D1N0izCs5sdr",
        "colab": {
          "base_uri": "https://localhost:8080/"
        },
        "outputId": "5ac6bd41-3305-457a-cba5-e75d08178657"
      },
      "source": [
        "from sklearn.ensemble import AdaBoostClassifier\n",
        "\n",
        "clf = AdaBoostClassifier(n_estimators=5,algorithm=\"SAMME\")\n",
        "clf.fit(x,y)\n",
        "y_pred2 = clf.predict(x)\n",
        "\n",
        "print(\"Performance:\",sum(y_pred==y)/len(y))\n",
        "print(\"Confusion Matrix:\\n\",CM(y,y_pred))"
      ],
      "execution_count": 418,
      "outputs": [
        {
          "output_type": "stream",
          "name": "stdout",
          "text": [
            "Performance: 0.9216589861751152\n",
            "Confusion Matrix:\n",
            " [[ 99  10]\n",
            " [  7 101]]\n"
          ]
        }
      ]
    },
    {
      "cell_type": "markdown",
      "metadata": {
        "id": "gu1lj-Cw8l3X"
      },
      "source": [
        "GBM"
      ]
    },
    {
      "cell_type": "code",
      "metadata": {
        "id": "QL_mJxV0KXsS",
        "colab": {
          "base_uri": "https://localhost:8080/"
        },
        "outputId": "4f8e8c20-e2de-41bd-ac64-72a18f96893a"
      },
      "source": [
        "from sklearn import datasets\n",
        "from sklearn.preprocessing import StandardScaler\n",
        "from sklearn.model_selection import train_test_split\n",
        "from sklearn.pipeline import make_pipeline\n",
        "from sklearn.ensemble import GradientBoostingRegressor\n",
        "from sklearn.metrics import mean_squared_error\n",
        "#\n",
        "# Load the Boston Dataset\n",
        "\n",
        "bhp = datasets.load_boston()\n",
        "\n",
        "# Create Training and Test Split\n",
        "\n",
        "X_train, X_test, y_train, y_test = train_test_split(bhp.data, bhp.target, random_state=42, test_size=0.1)\n",
        "\n",
        "# Standardize the dataset\n",
        "#\n",
        "sc = StandardScaler()\n",
        "X_train_std = sc.fit_transform(X_train)\n",
        "X_test_std = sc.transform(X_test)\n",
        "#\n",
        "# Hyperparameters for GradientBoostingRegressor\n",
        "#\n",
        "gbr_params = {'n_estimators': 1000,\n",
        "          'max_depth': 3,\n",
        "          'min_samples_split': 5,\n",
        "          'learning_rate': 0.01,\n",
        "          'loss': 'ls'}\n",
        "#\n",
        "# Create an instance of gradient boosting regressor\n",
        "#\n",
        "gbr = GradientBoostingRegressor(**gbr_params)\n",
        "#\n",
        "# Fit the model\n",
        "#\n",
        "gbr.fit(X_train_std, y_train)"
      ],
      "execution_count": 419,
      "outputs": [
        {
          "output_type": "stream",
          "name": "stderr",
          "text": [
            "/usr/local/lib/python3.7/dist-packages/sklearn/utils/deprecation.py:87: FutureWarning: Function load_boston is deprecated; `load_boston` is deprecated in 1.0 and will be removed in 1.2.\n",
            "\n",
            "    The Boston housing prices dataset has an ethical problem. You can refer to\n",
            "    the documentation of this function for further details.\n",
            "\n",
            "    The scikit-learn maintainers therefore strongly discourage the use of this\n",
            "    dataset unless the purpose of the code is to study and educate about\n",
            "    ethical issues in data science and machine learning.\n",
            "\n",
            "    In this special case, you can fetch the dataset from the original\n",
            "    source::\n",
            "\n",
            "        import pandas as pd\n",
            "        import numpy as np\n",
            "\n",
            "\n",
            "        data_url = \"http://lib.stat.cmu.edu/datasets/boston\"\n",
            "        raw_df = pd.read_csv(data_url, sep=\"\\s+\", skiprows=22, header=None)\n",
            "        data = np.hstack([raw_df.values[::2, :], raw_df.values[1::2, :2]])\n",
            "        target = raw_df.values[1::2, 2]\n",
            "\n",
            "    Alternative datasets include the California housing dataset (i.e.\n",
            "    :func:`~sklearn.datasets.fetch_california_housing`) and the Ames housing\n",
            "    dataset. You can load the datasets as follows::\n",
            "\n",
            "        from sklearn.datasets import fetch_california_housing\n",
            "        housing = fetch_california_housing()\n",
            "\n",
            "    for the California housing dataset and::\n",
            "\n",
            "        from sklearn.datasets import fetch_openml\n",
            "        housing = fetch_openml(name=\"house_prices\", as_frame=True)\n",
            "\n",
            "    for the Ames housing dataset.\n",
            "    \n",
            "  warnings.warn(msg, category=FutureWarning)\n",
            "/usr/local/lib/python3.7/dist-packages/sklearn/ensemble/_gb.py:290: FutureWarning: The loss 'ls' was deprecated in v1.0 and will be removed in version 1.2. Use 'squared_error' which is equivalent.\n",
            "  FutureWarning,\n"
          ]
        },
        {
          "output_type": "execute_result",
          "data": {
            "text/plain": [
              "GradientBoostingRegressor(learning_rate=0.01, loss='ls', min_samples_split=5,\n",
              "                          n_estimators=1000)"
            ]
          },
          "metadata": {},
          "execution_count": 419
        }
      ]
    },
    {
      "cell_type": "code",
      "metadata": {
        "id": "rUY7YRkJLUHj",
        "colab": {
          "base_uri": "https://localhost:8080/"
        },
        "outputId": "f1dd7d06-8c09-448b-f1a0-7a192a11253d"
      },
      "source": [
        "\n",
        "print(\"Model Accuracy: %.3f\" % gbr.score(X_test_std, y_test))\n",
        "#\n",
        "# Create the mean squared error\n",
        "#\n",
        "mse = mean_squared_error(y_test, gbr.predict(X_test_std))\n",
        "print(\"The mean squared error (MSE) on test set: {:.4f}\".format(mse))\n",
        "\n"
      ],
      "execution_count": 420,
      "outputs": [
        {
          "output_type": "stream",
          "name": "stdout",
          "text": [
            "Model Accuracy: 0.917\n",
            "The mean squared error (MSE) on test set: 5.1803\n"
          ]
        }
      ]
    },
    {
      "cell_type": "code",
      "metadata": {
        "id": "8Q1sxobNKcMf",
        "colab": {
          "base_uri": "https://localhost:8080/",
          "height": 577
        },
        "outputId": "440d9a5d-3eac-4814-e9b4-53c6f725d1cd"
      },
      "source": [
        "import numpy as np\n",
        "import matplotlib.pyplot as plt\n",
        "from sklearn.inspection import permutation_importance\n",
        "#\n",
        "# Get Feature importance data using feature_importances_ attribute\n",
        "#\n",
        "feature_importance = gbr.feature_importances_\n",
        "sorted_idx = np.argsort(feature_importance)\n",
        "pos = np.arange(sorted_idx.shape[0]) + .5\n",
        "fig = plt.figure(figsize=(8, 8))\n",
        "plt.barh(pos, feature_importance[sorted_idx], align='center')\n",
        "plt.yticks(pos, np.array(bhp.feature_names)[sorted_idx])\n",
        "plt.title('Feature Importance (MDI)')\n",
        "result = permutation_importance(gbr, X_test_std, y_test, n_repeats=10,\n",
        "                                random_state=42, n_jobs=2)\n",
        "sorted_idx = result.importances_mean.argsort()\n",
        "fig.tight_layout()\n",
        "plt.show()"
      ],
      "execution_count": 421,
      "outputs": [
        {
          "output_type": "display_data",
          "data": {
            "image/png": "[encoded data removed]",
            "text/plain": [
              "<Figure size 576x576 with 1 Axes>"
            ]
          },
          "metadata": {}
        }
      ]
    },
    {
      "cell_type": "code",
      "metadata": {
        "id": "PhPk38CtKfqi",
        "colab": {
          "base_uri": "https://localhost:8080/",
          "height": 577
        },
        "outputId": "e6c28753-dc7e-4448-d356-37585dd56354"
      },
      "source": [
        "test_score = np.zeros((gbr_params['n_estimators'],), dtype=np.float64)\n",
        "for i, y_pred in enumerate(gbr.staged_predict(X_test_std)):\n",
        "    test_score[i] = gbr.loss_(y_test, y_pred)\n",
        " \n",
        "fig = plt.figure(figsize=(8, 8))\n",
        "plt.subplot(1, 1, 1)\n",
        "plt.title('Deviance')\n",
        "plt.plot(np.arange(gbr_params['n_estimators']) + 1, gbr.train_score_, 'b-',\n",
        "         label='Training Set Deviance')\n",
        "plt.plot(np.arange(gbr_params['n_estimators']) + 1, test_score, 'r-',\n",
        "         label='Test Set Deviance')\n",
        "plt.legend(loc='upper right')\n",
        "plt.xlabel('Boosting Iterations')\n",
        "plt.ylabel('Deviance')\n",
        "fig.tight_layout()\n",
        "plt.show()"
      ],
      "execution_count": 422,
      "outputs": [
        {
          "output_type": "display_data",
          "data": {
            "image/png": "[encoded data removed]",
            "text/plain": [
              "<Figure size 576x576 with 1 Axes>"
            ]
          },
          "metadata": {}
        }
      ]
    },
    {
      "cell_type": "markdown",
      "metadata": {
        "id": "u4g_MH16SNrw"
      },
      "source": [
        "FP-tree Pseudocode and Explanation\n",
        "\n",
        "    Step 1: Deduce the ordered frequent items. For items with the same frequency, the order is given by the alphabetical order.\n",
        "    Step 2: Construct the FP-tree from the above data\n",
        "    Step 3: From the FP-tree above, construct the FP-conditional tree for each item (or itemset).\n",
        "    Step 4: Determine the frequent patterns."
      ]
    },
    {
      "cell_type": "code",
      "metadata": {
        "id": "9WpLAkU4Wjfu"
      },
      "source": [
        "from __future__ import division, print_function\n",
        "import numpy as np\n",
        "import itertools\n",
        "\n",
        "\n",
        "class FPTreeNode():\n",
        "    def __init__(self, item=None, support=1):\n",
        "        # 'Value' of the item\n",
        "        self.item = item\n",
        "        # Number of times the item occurs in a\n",
        "        # transaction\n",
        "        self.support = support\n",
        "        # Child nodes in the FP Growth Tree\n",
        "        self.children = {}\n",
        "\n",
        "\n",
        "class FPGrowth():\n",
        "    \"\"\"A method for determining frequent itemsets in a transactional database. \n",
        "    This is done by building a so called FP Growth tree, which can then be mined\n",
        "    to collect the frequent itemsets. More effective than Apriori for large transactional\n",
        "    databases.\n",
        "    Parameters:\n",
        "    -----------\n",
        "    min_sup: float\n",
        "        The minimum fraction of transactions an itemets needs to\n",
        "        occur in to be deemed frequent\n",
        "    \"\"\"\n",
        "    def __init__(self, min_sup=0.3):\n",
        "        self.min_sup = min_sup\n",
        "        # The root of the initial FP Growth Tree\n",
        "        self.tree_root = None\n",
        "        # Prefixes of itemsets in the FP Growth Tree\n",
        "        self.prefixes = {}\n",
        "        self.frequent_itemsets = []\n",
        "\n",
        "    # Count the number of transactions that contains item.\n",
        "    def _calculate_support(self, item, transactions):\n",
        "        count = 0\n",
        "        for transaction in transactions:\n",
        "            if item in transaction:\n",
        "                count += 1\n",
        "        support = count\n",
        "        return support\n",
        "\n",
        "\n",
        "    def _get_frequent_items(self, transactions):\n",
        "        \"\"\" Returns a set of frequent items. An item is determined to\n",
        "        be frequent if there are atleast min_sup transactions that contains\n",
        "        it. \"\"\"\n",
        "        # Get all unique items in the transactions\n",
        "        unique_items = set(\n",
        "            item for transaction in transactions for item in transaction)\n",
        "        items = []\n",
        "        for item in unique_items:\n",
        "            sup = self._calculate_support(item, transactions)\n",
        "            if sup >= self.min_sup:\n",
        "                items.append([item, sup])\n",
        "        # Sort by support - Highest to lowest\n",
        "        items.sort(key=lambda item: item[1], reverse=True)\n",
        "        frequent_items = [[el[0]] for el in items]\n",
        "        # Only return the items\n",
        "        return frequent_items\n",
        "\n",
        "    def _insert_tree(self, node, children):\n",
        "        \"\"\" Recursive method which adds nodes to the tree. \"\"\"\n",
        "        if not children:\n",
        "            return\n",
        "        # Create new node as the first item in children list\n",
        "        child_item = children[0]\n",
        "        child = FPTreeNode(item=child_item)\n",
        "        # If parent already contains item => increase the support\n",
        "        if child_item in node.children:\n",
        "            node.children[child.item].support += 1\n",
        "        else:\n",
        "            node.children[child.item] = child\n",
        "\n",
        "        # Execute _insert_tree on the rest of the children list\n",
        "        # from the new node\n",
        "        self._insert_tree(node.children[child.item], children[1:])\n",
        "\n",
        "    def _construct_tree(self, transactions, frequent_items=None):\n",
        "        if not frequent_items:\n",
        "            # Get frequent items sorted by support\n",
        "            frequent_items = self._get_frequent_items(transactions)\n",
        "        unique_frequent_items = list(\n",
        "            set(item for itemset in frequent_items for item in itemset))\n",
        "        # Construct the root of the FP Growth tree\n",
        "        root = FPTreeNode()\n",
        "        for transaction in transactions:\n",
        "            # Remove items that are not frequent according to\n",
        "            # unique_frequent_items\n",
        "            transaction = [item for item in transaction if item in unique_frequent_items]\n",
        "            transaction.sort(key=lambda item: frequent_items.index([item]))\n",
        "            self._insert_tree(root, transaction)\n",
        "\n",
        "        return root\n",
        "\n",
        "    def print_tree(self, node=None, indent_times=0):\n",
        "        \"\"\" Recursive method which prints the FP Growth Tree \"\"\"\n",
        "        if not node:\n",
        "            node = self.tree_root\n",
        "        indent = \"    \" * indent_times\n",
        "        print (\"%s%s:%s\" % (indent, node.item, node.support))\n",
        "        for child_key in node.children:\n",
        "            child = node.children[child_key]\n",
        "            self.print_tree(child, indent_times + 1)\n",
        "\n",
        "\n",
        "    def _is_prefix(self, itemset, node):\n",
        "        \"\"\" Makes sure that the first item in itemset is a child of node \n",
        "        and that every following item in itemset is reachable via that path \"\"\"\n",
        "        for item in itemset:\n",
        "            if not item in node.children:\n",
        "                return False\n",
        "            node = node.children[item]\n",
        "        return True\n",
        "\n",
        "\n",
        "    def _determine_prefixes(self, itemset, node, prefixes=None):\n",
        "        \"\"\" Recursive method that adds prefixes to the itemset by traversing the \n",
        "        FP Growth Tree\"\"\"\n",
        "        if not prefixes:\n",
        "            prefixes = []\n",
        "\n",
        "        # If the current node is a prefix to the itemset\n",
        "        # add the current prefixes value as prefix to the itemset\n",
        "        if self._is_prefix(itemset, node):\n",
        "            itemset_key = self._get_itemset_key(itemset)\n",
        "            if not itemset_key in self.prefixes:\n",
        "                self.prefixes[itemset_key] = []\n",
        "            self.prefixes[itemset_key] += [{\"prefix\": prefixes, \"support\": node.children[itemset[0]].support}]\n",
        "\n",
        "        for child_key in node.children:\n",
        "            child = node.children[child_key]\n",
        "            # Recursive call with child as new node. Add the child item as potential\n",
        "            # prefix.\n",
        "            self._determine_prefixes(itemset, child, prefixes + [child.item])\n",
        "\n",
        "\n",
        "    def _get_itemset_key(self, itemset):\n",
        "        \"\"\" Determines the look of the hashmap key for self.prefixes\n",
        "        List of more strings than one gets joined by '-' \"\"\"\n",
        "        if len(itemset) > 1:\n",
        "            itemset_key = \"-\".join(itemset)\n",
        "        else:\n",
        "            itemset_key = str(itemset[0])\n",
        "        return itemset_key\n",
        "\n",
        "    def _determine_frequent_itemsets(self, conditional_database, suffix):\n",
        "        # Calculate new frequent items from the conditional database\n",
        "        # of suffix\n",
        "        frequent_items = self._get_frequent_items(conditional_database)\n",
        "\n",
        "        cond_tree = None\n",
        "\n",
        "        if suffix:\n",
        "            cond_tree = self._construct_tree(conditional_database, frequent_items)\n",
        "            # Output new frequent itemset as the suffix added to the frequent\n",
        "            # items\n",
        "            self.frequent_itemsets += [el + suffix for el in frequent_items]\n",
        "\n",
        "        # Find larger frequent itemset by finding prefixes\n",
        "        # of the frequent items in the FP Growth Tree for the conditional\n",
        "        # database.\n",
        "        self.prefixes = {}\n",
        "        for itemset in frequent_items:\n",
        "            # If no suffix (first run)\n",
        "            if not cond_tree:\n",
        "                cond_tree = self.tree_root\n",
        "            # Determine prefixes to itemset\n",
        "            self._determine_prefixes(itemset, cond_tree)\n",
        "            conditional_database = []\n",
        "            itemset_key = self._get_itemset_key(itemset)\n",
        "            # Build new conditional database\n",
        "            if itemset_key in self.prefixes:\n",
        "                for el in self.prefixes[itemset_key]:\n",
        "                    # If support = 4 => add 4 of the corresponding prefix set\n",
        "                    for _ in range(el[\"support\"]):\n",
        "                        conditional_database.append(el[\"prefix\"])\n",
        "                # Create new suffix\n",
        "                new_suffix = itemset + suffix if suffix else itemset\n",
        "                self._determine_frequent_itemsets(conditional_database, suffix=new_suffix)\n",
        "\n",
        "    def find_frequent_itemsets(self, transactions, suffix=None, show_tree=False):\n",
        "        self.transactions = transactions\n",
        "\n",
        "        # Build the FP Growth Tree\n",
        "        self.tree_root = self._construct_tree(transactions)\n",
        "        if show_tree:\n",
        "            print (\"FP-Growth Tree:\")\n",
        "            self.print_tree(self.tree_root)\n",
        "\n",
        "        self._determine_frequent_itemsets(transactions, suffix=None)\n",
        "\n",
        "        return self.frequent_itemsets"
      ],
      "execution_count": 423,
      "outputs": []
    },
    {
      "cell_type": "code",
      "metadata": {
        "colab": {
          "base_uri": "https://localhost:8080/"
        },
        "id": "mpgSDctUWaQq",
        "outputId": "7355fc87-d472-40fb-c646-f5309c22bc8f"
      },
      "source": [
        "transactions = np.array([\n",
        "        [\"A\", \"B\", \"D\", \"E\"],\n",
        "        [\"B\", \"C\", \"E\"],\n",
        "        [\"A\", \"B\", \"D\", \"E\"],\n",
        "        [\"A\", \"B\", \"C\", \"E\"],\n",
        "        [\"A\", \"B\", \"C\", \"D\", \"E\"],\n",
        "        [\"B\", \"C\", \"D\"]\n",
        "    ])\n",
        "print (\"\")\n",
        "print (\"+---------------+\")\n",
        "print (\"|   FP-Growth   |\")\n",
        "print (\"+---------------+\")\n",
        "\n",
        "min_sup = 3\n",
        "print (\"Minimum Support: %s\" % min_sup)\n",
        "print (\"\")\n",
        "print (\"Transactions:\")\n",
        "for transaction in transactions:\n",
        "  print ('''\\t%s''' % transaction) \n",
        "\n",
        "\n",
        "\n",
        "fp_growth = FPGrowth(min_sup=min_sup)\n",
        "\n",
        "print (\"\")\n",
        "# Get and print the frequent itemsets\n",
        "frequent_itemsets = fp_growth.find_frequent_itemsets(transactions, show_tree=True)\n",
        "\n",
        "print (\"\")\n",
        "print (\"Frequent itemsets:\")\n",
        "for itemset in frequent_itemsets:\n",
        " print (\"\\t%s\" % itemset)\n",
        "print (\"\")"
      ],
      "execution_count": 424,
      "outputs": [
        {
          "output_type": "stream",
          "name": "stdout",
          "text": [
            "\n",
            "+---------------+\n",
            "|   FP-Growth   |\n",
            "+---------------+\n",
            "Minimum Support: 3\n",
            "\n",
            "Transactions:\n",
            "\t['A', 'B', 'D', 'E']\n",
            "\t['B', 'C', 'E']\n",
            "\t['A', 'B', 'D', 'E']\n",
            "\t['A', 'B', 'C', 'E']\n",
            "\t['A', 'B', 'C', 'D', 'E']\n",
            "\t['B', 'C', 'D']\n",
            "\n",
            "FP-Growth Tree:\n",
            "None:1\n",
            "    B:6\n",
            "        E:5\n",
            "            A:4\n",
            "                D:3\n",
            "                    C:1\n",
            "                C:1\n",
            "            C:1\n",
            "        D:1\n",
            "            C:1\n",
            "\n",
            "Frequent itemsets:\n",
            "\t['B', 'E']\n",
            "\t['E', 'A']\n",
            "\t['B', 'A']\n",
            "\t['E', 'B', 'A']\n",
            "\t['B', 'D']\n",
            "\t['E', 'D']\n",
            "\t['A', 'D']\n",
            "\t['B', 'E', 'D']\n",
            "\t['E', 'A', 'D']\n",
            "\t['B', 'A', 'D']\n",
            "\t['E', 'B', 'A', 'D']\n",
            "\t['B', 'C']\n",
            "\t['E', 'C']\n",
            "\t['B', 'E', 'C']\n",
            "\n"
          ]
        },
        {
          "output_type": "stream",
          "name": "stderr",
          "text": [
            "/usr/local/lib/python3.7/dist-packages/ipykernel_launcher.py:7: VisibleDeprecationWarning: Creating an ndarray from ragged nested sequences (which is a list-or-tuple of lists-or-tuples-or ndarrays with different lengths or shapes) is deprecated. If you meant to do this, you must specify 'dtype=object' when creating the ndarray\n",
            "  import sys\n"
          ]
        }
      ]
    }
  ]
}